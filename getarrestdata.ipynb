{
 "cells": [
  {
   "cell_type": "markdown",
   "id": "29333699-c91d-49fb-911b-0c254de238b0",
   "metadata": {
    "tags": []
   },
   "source": [
    "# Predict Home Prices Based on Education and Crime Data\n"
   ]
  },
  {
   "cell_type": "markdown",
   "id": "5c746cbf-322e-4c58-8df7-b153de004e0d",
   "metadata": {},
   "source": [
    "## API Request Function\n"
   ]
  },
  {
   "cell_type": "code",
   "execution_count": 7,
   "id": "a4ad4f77-b289-4885-a9f3-b26bedc3a54e",
   "metadata": {
    "tags": []
   },
   "outputs": [],
   "source": [
    "import requests\n",
    "import time\n",
    "def get_data_from_uri(uri):\n",
    "    # Set up the headers with the API key\n",
    "    headers = {\n",
    "    \"Content-Type\": \"application/json\"\n",
    "    }\n",
    "\n",
    "    # Send a GET request to the API endpoint\n",
    "    response = requests.get(uri, headers=headers)\n",
    "\n",
    "    # Check the status code of the response\n",
    "    if response.status_code == 200:\n",
    "        data = response.json()\n",
    "        return data\n",
    "        \n",
    "    else:\n",
    "        print(f\"Request failed with status code {response.status_code}\")\n",
    "        print(response.text)\n",
    "        return None"
   ]
  },
  {
   "cell_type": "markdown",
   "id": "a5a53d13-aedd-4c95-9c2b-c51391601595",
   "metadata": {},
   "source": [
    "## Python code to make an HTTP request to the API endpoint and retrieve a list of agencies operating in Georgia (GA). "
   ]
  },
  {
   "cell_type": "code",
   "execution_count": 8,
   "id": "8f4ee0e5-de49-442f-99a1-d00c7eb6f42b",
   "metadata": {},
   "outputs": [
    {
     "name": "stdout",
     "output_type": "stream",
     "text": [
      "         ori                      agency_name  agency_id state_name  \\\n",
      "0  GA0010000  Appling County Sheriff's Office       3468    Georgia   \n",
      "1  GA0010100         Baxley Police Department       3469    Georgia   \n",
      "2  GA0010300                           Graham      26899    Georgia   \n",
      "\n",
      "  state_abbr   division_name region_name region_desc county_name  \\\n",
      "0         GA  South Atlantic       South  Region III     APPLING   \n",
      "1         GA  South Atlantic       South  Region III     APPLING   \n",
      "2         GA  South Atlantic       South  Region III     APPLING   \n",
      "\n",
      "  agency_type_name  nibrs          nibrs_start_date   latitude   longitude  \n",
      "0           County  False  2019-10-01T00:00:00.000Z  31.782509   -82.35828  \n",
      "1             City   True  2018-12-01T00:00:00.000Z  31.739712  -82.290103  \n",
      "2             City  False                      None       None        None  \n"
     ]
    }
   ],
   "source": [
    "import pandas as pd\n",
    "\n",
    "agency_data = get_data_from_uri(\"https://api.usa.gov/crime/fbi/cde/agency/byStateAbbr/GA?API_KEY=KPY34tj4bkbX8N0wgKtvtQncnfFdubWDYzZTekYR\")\n",
    "if agency_data:\n",
    "    agency_df = pd.DataFrame(agency_data)\n",
    "    print(agency_df.head(3))"
   ]
  },
  {
   "cell_type": "markdown",
   "id": "fddd9b7a-c74d-4c89-b887-8c3c71021cc5",
   "metadata": {},
   "source": [
    "## now we have the list of agencies, iterate through each agency and write additional code to retrieve incident data for each year from 2010 to 2022.need to construct specific API queries for each agency and year."
   ]
  },
  {
   "cell_type": "code",
   "execution_count": null,
   "id": "64137711-647d-4aac-84b2-d1e265908254",
   "metadata": {
    "tags": []
   },
   "outputs": [],
   "source": [
    "## Get arrest data for each agency\n",
    "import time\n",
    "arrest_df_all = pd.DataFrame()\n",
    "\n",
    "for ori in agency_df.ori.unique():\n",
    "    arrest_data = get_data_from_uri(\"https://api.usa.gov/crime/fbi/cde/arrest/agency/\"+ori+\"/all?from=2010&to=2022&API_KEY=KPY34tj4bkbX8N0wgKtvtQncnfFdubWDYzZTekYR\")\n",
    "    if arrest_data:\n",
    "        arrest_data = arrest_data['data']\n",
    "        arrest_df = pd.DataFrame(arrest_data)\n",
    "        arrest_df['ori'] = ori\n",
    "        arrest_df_all = pd.concat([arrest_df_all, arrest_df], axis=0)\n",
    "        time.sleep(3)\n",
    "    "
   ]
  },
  {
   "cell_type": "code",
   "execution_count": null,
   "id": "a7080bfc-377c-4d77-9b70-d9fb72c9221b",
   "metadata": {},
   "outputs": [],
   "source": [
    "arrest_df_all.head()"
   ]
  },
  {
   "cell_type": "markdown",
   "id": "ef8a71a7-2b86-493f-a8e4-3e3a2db1892c",
   "metadata": {},
   "source": [
    "##  Process and display the retrieved data in a readable csv format. "
   ]
  },
  {
   "cell_type": "code",
   "execution_count": null,
   "id": "6fbd4d2c-e21a-44fe-8610-a5b10bad1231",
   "metadata": {},
   "outputs": [],
   "source": [
    "arrest_df_all.to_csv('arrests.csv', index=False)"
   ]
  },
  {
   "cell_type": "code",
   "execution_count": null,
   "id": "9f88c78e-488d-49a8-bea5-2a1c82846ac4",
   "metadata": {},
   "outputs": [],
   "source": []
  }
 ],
 "metadata": {
  "kernelspec": {
   "display_name": "Python 3 (ipykernel)",
   "language": "python",
   "name": "python3"
  },
  "language_info": {
   "codemirror_mode": {
    "name": "ipython",
    "version": 3
   },
   "file_extension": ".py",
   "mimetype": "text/x-python",
   "name": "python",
   "nbconvert_exporter": "python",
   "pygments_lexer": "ipython3",
   "version": "3.9.9"
  }
 },
 "nbformat": 4,
 "nbformat_minor": 5
}
